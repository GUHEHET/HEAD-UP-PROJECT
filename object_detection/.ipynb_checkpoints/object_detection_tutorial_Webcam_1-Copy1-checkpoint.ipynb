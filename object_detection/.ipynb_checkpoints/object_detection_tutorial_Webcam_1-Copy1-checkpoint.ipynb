{
 "cells": [
  {
   "cell_type": "markdown",
   "metadata": {},
   "source": [
    "# Imports"
   ]
  },
  {
   "cell_type": "code",
   "execution_count": 1,
   "metadata": {
    "scrolled": true
   },
   "outputs": [],
   "source": [
    "import numpy as np\n",
    "import os\n",
    "import six.moves.urllib as urllib\n",
    "import sys\n",
    "import tarfile\n",
    "import tensorflow as tf\n",
    "import zipfile\n",
    "\n",
    "from collections import defaultdict\n",
    "from io import StringIO\n",
    "from matplotlib import pyplot as plt\n",
    "from PIL import Image\n",
    "\n",
    "if tf.__version__ < '1.4.0':\n",
    "  raise ImportError('Please upgrade your tensorflow installation to v1.4.* or later!')\n"
   ]
  },
  {
   "cell_type": "markdown",
   "metadata": {},
   "source": [
    "## Env setup"
   ]
  },
  {
   "cell_type": "code",
   "execution_count": 2,
   "metadata": {},
   "outputs": [],
   "source": [
    "# This is needed to display the images.\n",
    "%matplotlib inline\n",
    "\n",
    "# This is needed since the notebook is stored in the object_detection folder.\n",
    "sys.path.append(\"..\")"
   ]
  },
  {
   "cell_type": "markdown",
   "metadata": {},
   "source": [
    "## Object detection imports\n",
    "Here are the imports from the object detection module."
   ]
  },
  {
   "cell_type": "code",
   "execution_count": 3,
   "metadata": {},
   "outputs": [],
   "source": [
    "from utils import label_map_util\n",
    "\n",
    "from utils import visualization_utils as vis_util"
   ]
  },
  {
   "cell_type": "markdown",
   "metadata": {},
   "source": [
    "# Model preparation "
   ]
  },
  {
   "cell_type": "markdown",
   "metadata": {},
   "source": [
    "## Variables\n",
    "\n",
    "Any model exported using the `export_inference_graph.py` tool can be loaded here simply by changing `PATH_TO_CKPT` to point to a new .pb file.  \n",
    "\n",
    "By default we use an \"SSD with Mobilenet\" model here. See the [detection model zoo](https://github.com/tensorflow/models/blob/master/research/object_detection/g3doc/detection_model_zoo.md) for a list of other models that can be run out-of-the-box with varying speeds and accuracies."
   ]
  },
  {
   "cell_type": "code",
   "execution_count": 4,
   "metadata": {},
   "outputs": [],
   "source": [
    "# What model to download.\n",
    "MODEL_NAME = 'ssd_mobilenet_v1_coco_2017_11_17'\n",
    "MODEL_FILE = MODEL_NAME + '.tar.gz'\n",
    "DOWNLOAD_BASE = 'http://download.tensorflow.org/models/object_detection/'\n",
    "\n",
    "# Path to frozen detection graph. This is the actual model that is used for the object detection.\n",
    "PATH_TO_CKPT = MODEL_NAME + '/frozen_inference_graph.pb'\n",
    "\n",
    "# List of the strings that is used to add correct label for each box.\n",
    "PATH_TO_LABELS = os.path.join('data', 'mscoco_label_map.pbtxt')\n",
    "\n",
    "NUM_CLASSES = 90"
   ]
  },
  {
   "cell_type": "markdown",
   "metadata": {},
   "source": [
    "## Download Model"
   ]
  },
  {
   "cell_type": "markdown",
   "metadata": {},
   "source": [
    "opener = urllib.request.URLopener()\n",
    "opener.retrieve(DOWNLOAD_BASE + MODEL_FILE, MODEL_FILE)\n",
    "tar_file = tarfile.open(MODEL_FILE)\n",
    "for file in tar_file.getmembers():\n",
    "  file_name = os.path.basename(file.name)\n",
    "  if 'frozen_inference_graph.pb' in file_name:\n",
    "    tar_file.extract(file, os.getcwd())"
   ]
  },
  {
   "cell_type": "markdown",
   "metadata": {},
   "source": [
    "## Load a (frozen) Tensorflow model into memory."
   ]
  },
  {
   "cell_type": "code",
   "execution_count": 5,
   "metadata": {},
   "outputs": [],
   "source": [
    "detection_graph = tf.Graph()\n",
    "with detection_graph.as_default():\n",
    "    od_graph_def = tf.compat.v1.GraphDef()\n",
    "    with tf.io.gfile.GFile(PATH_TO_CKPT, 'rb') as fid:\n",
    "        serialized_graph = fid.read()\n",
    "        od_graph_def.ParseFromString(serialized_graph)\n",
    "        tf.import_graph_def(od_graph_def, name='')"
   ]
  },
  {
   "cell_type": "markdown",
   "metadata": {},
   "source": [
    "## Loading label map\n",
    "Label maps map indices to category names, so that when our convolution network predicts `5`, we know that this corresponds to `airplane`.  Here we use internal utility functions, but anything that returns a dictionary mapping integers to appropriate string labels would be fine"
   ]
  },
  {
   "cell_type": "code",
   "execution_count": 6,
   "metadata": {},
   "outputs": [],
   "source": [
    "label_map = label_map_util.load_labelmap(PATH_TO_LABELS)\n",
    "categories = label_map_util.convert_label_map_to_categories(label_map, max_num_classes=NUM_CLASSES, use_display_name=True)\n",
    "category_index = label_map_util.create_category_index(categories)"
   ]
  },
  {
   "cell_type": "code",
   "execution_count": 7,
   "metadata": {},
   "outputs": [],
   "source": [
    "def load_image_into_numpy_array(image):\n",
    "    (im_width, im_height) = image.size\n",
    "    return np.array(image.getdata()).reshape(\n",
    "        (im_height, im_width, 3)).astype(np.uint8)"
   ]
  },
  {
   "cell_type": "code",
   "execution_count": 13,
   "metadata": {
    "scrolled": true
   },
   "outputs": [
    {
     "name": "stdout",
     "output_type": "stream",
     "text": [
      "0.6204530000686646 0.622636079788208\n",
      "0.5761719942092896 0.6517876982688904\n",
      "0.559666097164154 0.6196434497833252\n",
      "0.552963137626648 0.6017184257507324\n",
      "0.5588217973709106 0.594369649887085\n",
      "0.501136064529419 0.6015449166297913\n",
      "0.5049788355827332 0.5972071886062622\n",
      "0.5059944987297058 0.5975537300109863\n",
      "0.5098795294761658 0.5874317288398743\n",
      "0.5069977045059204 0.5874187350273132\n",
      "0.5093043446540833 0.5919625759124756\n",
      "0.5071250200271606 0.5904316902160645\n",
      "0.5021792054176331 0.6210470199584961\n",
      "0.5024707317352295 0.6169261932373047\n",
      "0.5098289251327515 0.5931455492973328\n",
      "0.5101982355117798 0.5932614803314209\n",
      "0.5095950365066528 0.5927512645721436\n",
      "0.5107762813568115 0.5942754745483398\n",
      "0.5097951292991638 0.5929041504859924\n",
      "0.5091150999069214 0.5961000919342041\n",
      "0.5109304189682007 0.5948547124862671\n",
      "0.5082193613052368 0.5940160751342773\n",
      "0.5084642171859741 0.59679114818573\n",
      "0.5086812376976013 0.5923839807510376\n",
      "0.5097374320030212 0.5952244997024536\n",
      "0.507522463798523 0.5969734191894531\n",
      "0.5068191885948181 0.5926691889762878\n",
      "0.5107161402702332 0.5975746512413025\n",
      "0.5087190270423889 0.5969308018684387\n",
      "0.5100088119506836 0.5947364568710327\n",
      "0.5081691741943359 0.596434473991394\n",
      "0.5102895498275757 0.594268798828125\n",
      "0.5097783207893372 0.5956754684448242\n",
      "0.5116580724716187 0.5964888334274292\n",
      "0.5107564330101013 0.5986481308937073\n",
      "0.5103259682655334 0.5954955220222473\n",
      "0.5106949806213379 0.5976922512054443\n",
      "0.5103030204772949 0.5947226285934448\n",
      "0.5095734000205994 0.5989441275596619\n",
      "0.5100943446159363 0.5968337059020996\n",
      "0.5071788430213928 0.6243313550949097\n",
      "0.5061643719673157 0.6243933439254761\n",
      "0.510847270488739 0.5993131399154663\n",
      "0.5096099376678467 0.5976178646087646\n",
      "0.5133757591247559 0.5979710817337036\n",
      "0.5096920132637024 0.5955846905708313\n",
      "0.510029137134552 0.5972482562065125\n",
      "0.5106652975082397 0.597095787525177\n",
      "0.5131232142448425 0.5988966226577759\n",
      "0.5161803364753723 0.5997775197029114\n",
      "0.5127338767051697 0.5999050140380859\n",
      "0.5119126439094543 0.600203275680542\n",
      "0.5145817399024963 0.5999556183815002\n",
      "0.5153212547302246 0.6017911434173584\n",
      "0.513765811920166 0.5996743440628052\n",
      "0.5145276188850403 0.5983984470367432\n",
      "0.5119624137878418 0.6254178881645203\n",
      "0.5115464329719543 0.5991306900978088\n",
      "0.5122685432434082 0.6246062517166138\n",
      "0.5092672109603882 0.6245571374893188\n",
      "0.5079856514930725 0.6229833960533142\n",
      "0.5089399218559265 0.6238501071929932\n",
      "0.5104748606681824 0.6246232390403748\n",
      "0.5075337290763855 0.624210000038147\n",
      "0.5114341974258423 0.600007951259613\n",
      "0.5073480606079102 0.6236160397529602\n",
      "0.5083579421043396 0.6237503886222839\n",
      "0.5130769610404968 0.596739649772644\n",
      "0.5129116773605347 0.5985507369041443\n",
      "0.5108866095542908 0.5968854427337646\n",
      "0.513275146484375 0.5978308916091919\n",
      "0.5125442147254944 0.5984976887702942\n",
      "0.5131736397743225 0.5958315134048462\n",
      "0.5102124810218811 0.5984658002853394\n",
      "0.5129866600036621 0.5969723463058472\n",
      "0.5086846351623535 0.6238542795181274\n",
      "0.5092019438743591 0.6239345073699951\n",
      "0.5072537064552307 0.6225922107696533\n",
      "0.5092557072639465 0.6225497126579285\n",
      "0.5110605359077454 0.6215604543685913\n",
      "0.5103737115859985 0.6240074038505554\n",
      "0.5131319165229797 0.5985291004180908\n",
      "0.510297417640686 0.5981323719024658\n",
      "0.5095031261444092 0.6241655349731445\n",
      "0.5103131532669067 0.5973994135856628\n",
      "0.510111391544342 0.6248314380645752\n",
      "0.5145912170410156 0.5992025136947632\n",
      "0.5134354829788208 0.5994132161140442\n",
      "0.5128782987594604 0.5998165011405945\n",
      "0.515411376953125 0.6013965606689453\n",
      "0.5119838714599609 0.601233959197998\n",
      "0.5130743980407715 0.5988511443138123\n",
      "0.512637197971344 0.601390540599823\n",
      "0.5112965106964111 0.5994902849197388\n",
      "0.5135766267776489 0.6015402674674988\n",
      "0.5113316774368286 0.5989038944244385\n",
      "0.5124452710151672 0.6012909412384033\n",
      "0.5130380392074585 0.6009367108345032\n",
      "0.5115315318107605 0.5983798503875732\n",
      "0.5144554376602173 0.6017335653305054\n",
      "0.5099779367446899 0.5982280969619751\n",
      "0.5124824047088623 0.60332852602005\n",
      "0.5121849179267883 0.5995882153511047\n",
      "0.5126857161521912 0.6020224094390869\n",
      "0.5150209069252014 0.6014750003814697\n",
      "0.513949453830719 0.6016323566436768\n",
      "0.5116903185844421 0.5991498231887817\n",
      "0.5154645442962646 0.6023881435394287\n",
      "0.5138344168663025 0.600304901599884\n",
      "0.5149561166763306 0.60231614112854\n",
      "0.5120696425437927 0.6011293530464172\n",
      "0.515376091003418 0.6010028719902039\n",
      "0.516232967376709 0.6014805436134338\n",
      "0.5110354423522949 0.599090576171875\n",
      "0.5165794491767883 0.6007382869720459\n",
      "0.5179924964904785 0.5972961783409119\n",
      "0.5479608774185181 0.60043865442276\n",
      "0.5833306312561035 0.6061975359916687\n",
      "0.6276208162307739 0.6063512563705444\n",
      "0.66929692029953 0.6041309833526611\n",
      "0.6949605941772461 0.6004433631896973\n",
      "0.7143291234970093 0.5992704629898071\n",
      "0.7206878662109375 0.5916711688041687\n",
      "0.720853328704834 0.590007483959198\n",
      "0.7190951108932495 0.5907625555992126\n",
      "0.7194079756736755 0.5886359810829163\n",
      "0.719081699848175 0.5888314247131348\n",
      "0.7168939709663391 0.5905340909957886\n",
      "0.7159560918807983 0.5906407237052917\n",
      "0.7146940231323242 0.590016782283783\n",
      "0.715616762638092 0.591326117515564\n",
      "0.7164224982261658 0.5907537937164307\n",
      "0.7191542387008667 0.5914852619171143\n",
      "0.7203300595283508 0.5907323956489563\n",
      "0.7192327976226807 0.5916361212730408\n",
      "0.7203692197799683 0.5910061597824097\n",
      "0.7203863859176636 0.5894033908843994\n",
      "0.7208991646766663 0.5875779390335083\n",
      "0.7197468280792236 0.5913248062133789\n",
      "0.7199443578720093 0.5919920802116394\n",
      "0.7187355756759644 0.5925477147102356\n",
      "0.7208095788955688 0.5911847949028015\n",
      "0.7212269306182861 0.5930818915367126\n",
      "0.720817506313324 0.5926690697669983\n",
      "0.7193211317062378 0.5921540856361389\n",
      "0.7207638025283813 0.590877115726471\n",
      "0.712714433670044 0.5912167429924011\n",
      "0.7041628360748291 0.5926966071128845\n",
      "0.6911754012107849 0.5968837141990662\n",
      "0.6730265021324158 0.5983862280845642\n",
      "0.6356545686721802 0.586331307888031\n",
      "0.5942521095275879 0.5956142544746399\n",
      "0.5459402799606323 0.594877302646637\n",
      "0.5228376388549805 0.6223922371864319\n",
      "0.4765733480453491 0.602849006652832\n",
      "0.47155898809432983 0.6228107213973999\n",
      "0.45563197135925293 0.6241506934165955\n",
      "0.44189977645874023 0.622905433177948\n",
      "0.3894997835159302 0.605879008769989\n",
      "0.37779849767684937 0.6105034947395325\n",
      "0.3363739550113678 0.6134290099143982\n",
      "0.324628084897995 0.6269799470901489\n",
      "0.29920852184295654 0.629309892654419\n",
      "0.3199130594730377 0.6132587790489197\n",
      "0.3275710344314575 0.6114935874938965\n",
      "0.3298838138580322 0.6113889217376709\n",
      "0.33369043469429016 0.6095738410949707\n",
      "0.3361113667488098 0.6077778935432434\n",
      "0.34006255865097046 0.6081541180610657\n",
      "0.34903910756111145 0.6056398153305054\n",
      "0.35982581973075867 0.6055916547775269\n",
      "0.3776811361312866 0.604465663433075\n",
      "0.3804381489753723 0.6012499332427979\n",
      "0.38303500413894653 0.6014192700386047\n",
      "0.3834424614906311 0.5999876856803894\n",
      "0.38885101675987244 0.6017302870750427\n",
      "0.4289294481277466 0.6179644465446472\n",
      "0.4401824474334717 0.6144173741340637\n",
      "0.44983285665512085 0.6080789566040039\n",
      "0.4645911455154419 0.6110085248947144\n",
      "0.4863659143447876 0.5903395414352417\n",
      "0.5036014914512634 0.5878000259399414\n",
      "0.5361549258232117 0.5863505005836487\n",
      "0.547847330570221 0.6128930449485779\n",
      "0.5490056872367859 0.6168226003646851\n",
      "0.5331868529319763 0.6173787117004395\n",
      "0.5326444506645203 0.591245174407959\n",
      "0.5224501490592957 0.5918398499488831\n",
      "0.5171257257461548 0.5889476537704468\n",
      "0.5167449116706848 0.5879729390144348\n",
      "0.5180777311325073 0.5880893468856812\n",
      "0.5188746452331543 0.5858879089355469\n",
      "0.5211281180381775 0.5906527042388916\n",
      "0.5190330743789673 0.5912349820137024\n",
      "0.519914448261261 0.5922325849533081\n",
      "0.519810140132904 0.591119647026062\n",
      "0.5173616409301758 0.5889955759048462\n",
      "0.519283652305603 0.5886198282241821\n",
      "0.5183072686195374 0.5909561514854431\n",
      "0.5194360613822937 0.5893902778625488\n",
      "0.5123386979103088 0.6163288354873657\n",
      "0.5105950832366943 0.6131706237792969\n",
      "0.5121486783027649 0.6152698993682861\n",
      "0.5127257108688354 0.6148622632026672\n",
      "0.5123250484466553 0.6137219667434692\n",
      "0.5113816261291504 0.612082302570343\n",
      "0.5124605894088745 0.6131582260131836\n",
      "0.5115812420845032 0.6129380464553833\n",
      "0.5111080408096313 0.6133668422698975\n",
      "0.5164201855659485 0.6146780848503113\n",
      "0.5146843791007996 0.6143807172775269\n",
      "0.5137494802474976 0.6176080703735352\n",
      "0.5136140584945679 0.6165668964385986\n",
      "0.5165942311286926 0.5949773192405701\n",
      "0.5177599191665649 0.6013258099555969\n",
      "0.5173547863960266 0.6189783215522766\n",
      "0.5094588994979858 0.6313026547431946\n",
      "0.5166484713554382 0.650659441947937\n"
     ]
    },
    {
     "name": "stdout",
     "output_type": "stream",
     "text": [
      "0.5246788263320923 0.6679632067680359\n",
      "0.5255150198936462 0.6701256632804871\n",
      "0.5157282948493958 0.6755039691925049\n",
      "0.5212447047233582 0.674134373664856\n",
      "0.5140466094017029 0.6772400736808777\n",
      "0.5158793330192566 0.676608145236969\n",
      "0.5113686919212341 0.677914559841156\n",
      "0.5104916095733643 0.6788791418075562\n",
      "0.5227457284927368 0.6761719584465027\n",
      "0.5317174792289734 0.673682451248169\n",
      "0.5256718993186951 0.6736828684806824\n",
      "0.5245051383972168 0.6728037595748901\n",
      "0.52339768409729 0.6732127070426941\n",
      "0.5196399688720703 0.6717899441719055\n",
      "0.5204696655273438 0.667478621006012\n",
      "0.5134038925170898 0.6674553155899048\n",
      "0.5139490962028503 0.6600642800331116\n",
      "0.5159420371055603 0.6432154178619385\n",
      "0.5165517926216125 0.6282147169113159\n",
      "0.5193736553192139 0.611037015914917\n",
      "0.5197817087173462 0.6071074604988098\n",
      "0.5176464319229126 0.6274738907814026\n",
      "0.5223888158798218 0.6204870939254761\n",
      "0.5214793682098389 0.6059207320213318\n",
      "0.5216933488845825 0.5970152020454407\n",
      "0.5201045274734497 0.590209424495697\n",
      "0.5236808657646179 0.5775464773178101\n",
      "0.5276275873184204 0.5619084239006042\n",
      "0.5229401588439941 0.5426105260848999\n",
      "0.5207478404045105 0.5237032771110535\n",
      "0.5290951728820801 0.5050682425498962\n",
      "0.5435481071472168 0.5076524615287781\n",
      "0.5438700914382935 0.514757513999939\n",
      "0.5464586615562439 0.5154328942298889\n",
      "0.5461486577987671 0.5182324647903442\n",
      "0.5442249774932861 0.5167458653450012\n",
      "0.5376424193382263 0.5147104859352112\n",
      "0.5372627973556519 0.5130765438079834\n",
      "0.5382092595100403 0.5113822817802429\n",
      "0.5409554243087769 0.5042033791542053\n",
      "0.5373352766036987 0.5024867653846741\n",
      "0.5348972082138062 0.5024532079696655\n",
      "0.5382755398750305 0.5025800466537476\n",
      "0.5345761179924011 0.5017402768135071\n",
      "0.5389844179153442 0.5025037527084351\n",
      "0.5335877537727356 0.5015129446983337\n",
      "0.5348168611526489 0.5039705634117126\n",
      "0.5341711044311523 0.5081433653831482\n",
      "0.5293862819671631 0.5121064782142639\n",
      "0.5310512781143188 0.5170417428016663\n",
      "0.5237247347831726 0.5252428650856018\n",
      "0.5254810452461243 0.5333857536315918\n",
      "0.5242814421653748 0.5380052328109741\n",
      "0.5217793583869934 0.5421952605247498\n",
      "0.5268641710281372 0.5407085418701172\n",
      "0.5245059728622437 0.5398764610290527\n",
      "0.527328610420227 0.5404537320137024\n",
      "0.5276214480400085 0.5422054529190063\n",
      "0.5257779955863953 0.5402538180351257\n",
      "0.5288816690444946 0.5410045981407166\n",
      "0.5270175337791443 0.5426317453384399\n",
      "0.5227476358413696 0.5457357168197632\n",
      "0.5195465683937073 0.5454715490341187\n",
      "0.5158923268318176 0.548869252204895\n",
      "0.5179754495620728 0.5487338900566101\n",
      "0.5366530418395996 0.5487443208694458\n",
      "0.4615960121154785 0.5507932305335999\n",
      "0.5904897451400757 0.5260713696479797\n",
      "0.6074904799461365 0.5345571041107178\n",
      "0.6033497452735901 0.5251618027687073\n",
      "0.6070383191108704 0.5234459638595581\n",
      "0.6077696084976196 0.5285225510597229\n",
      "0.5923861265182495 0.537896454334259\n",
      "0.594584584236145 0.534268319606781\n",
      "0.5942740440368652 0.5474810004234314\n",
      "0.5800427794456482 0.5557600259780884\n",
      "0.5650746822357178 0.5522865056991577\n",
      "0.5829859375953674 0.5486204028129578\n",
      "0.5860158801078796 0.5284647941589355\n",
      "0.5682282447814941 0.5111080408096313\n",
      "0.5656377077102661 0.514441728591919\n",
      "0.5792005062103271 0.5130077004432678\n",
      "0.5630636811256409 0.5025065541267395\n",
      "0.5219202041625977 0.5185005068778992\n",
      "0.5676206946372986 0.5234255194664001\n",
      "0.5429981350898743 0.5522585511207581\n",
      "0.4804142117500305 0.561825692653656\n",
      "0.5050269961357117 0.5638128519058228\n",
      "0.51373291015625 0.5621040463447571\n",
      "0.5130859613418579 0.5669395327568054\n",
      "0.4975240230560303 0.5694676637649536\n",
      "0.4987201690673828 0.5680867433547974\n",
      "0.4932963252067566 0.5698577761650085\n",
      "0.49436622858047485 0.5666480660438538\n",
      "0.4842093586921692 0.5672360062599182\n",
      "0.48104870319366455 0.5659211277961731\n",
      "0.49759641289711 0.5609235167503357\n",
      "0.5008329153060913 0.5604358315467834\n",
      "0.5192314982414246 0.5630938410758972\n",
      "0.5132521986961365 0.5635714530944824\n",
      "0.514657735824585 0.5592828392982483\n",
      "0.5158265829086304 0.5600154995918274\n",
      "0.5147712230682373 0.5549740791320801\n",
      "0.5162931084632874 0.5556430816650391\n",
      "0.5147168040275574 0.5553680658340454\n",
      "0.5147423148155212 0.5550907850265503\n",
      "0.5165145397186279 0.5562833547592163\n",
      "0.5180964469909668 0.5559319853782654\n",
      "0.5191854238510132 0.5574770569801331\n",
      "0.5186466574668884 0.55681312084198\n",
      "0.5173631310462952 0.5584814548492432\n",
      "0.5173587799072266 0.5626415014266968\n",
      "0.5174523591995239 0.5642524361610413\n",
      "0.5174123048782349 0.566715657711029\n",
      "0.5169776082038879 0.5683088898658752\n",
      "0.515795111656189 0.5684407949447632\n",
      "0.5181722044944763 0.5703892111778259\n",
      "0.516075074672699 0.5747339725494385\n",
      "0.512972891330719 0.5804167985916138\n",
      "0.5237345695495605 0.5692995190620422\n",
      "0.5281820297241211 0.5736052989959717\n",
      "0.5245480537414551 0.5726407766342163\n",
      "0.5151026844978333 0.592475175857544\n",
      "0.5275567770004272 0.5768899321556091\n",
      "0.5255532264709473 0.5765196681022644\n",
      "0.5281994342803955 0.5794839262962341\n",
      "0.5267136693000793 0.5785725712776184\n",
      "0.5271720290184021 0.5798875093460083\n",
      "0.5100781321525574 0.5985761880874634\n",
      "0.5257625579833984 0.5767606496810913\n",
      "0.5393993854522705 0.5909793376922607\n",
      "0.5343790054321289 0.5863072872161865\n",
      "0.5596016645431519 0.5889436602592468\n",
      "0.5510254502296448 0.5739105939865112\n",
      "0.5944004654884338 0.5182765126228333\n",
      "0.527592658996582 0.569614827632904\n",
      "0.5745512247085571 0.5771578550338745\n",
      "0.5941145420074463 0.5771352052688599\n",
      "0.5803336501121521 0.5590439438819885\n",
      "0.5772904753684998 0.6098592877388\n",
      "0.5616936087608337 0.6183075904846191\n",
      "0.570017397403717 0.6525609493255615\n",
      "0.5731399059295654 0.6461037993431091\n",
      "0.5725347995758057 0.6327300667762756\n",
      "0.5710802674293518 0.611569881439209\n",
      "0.5576302409172058 0.5899351239204407\n",
      "0.5226403474807739 0.6141623854637146\n",
      "0.5253313183784485 0.5975731015205383\n",
      "0.5184230208396912 0.5859336256980896\n",
      "0.5167558789253235 0.5846551060676575\n",
      "0.513105571269989 0.5858398675918579\n",
      "0.4948066473007202 0.6098860502243042\n",
      "0.5027051568031311 0.6052752733230591\n",
      "0.5045854449272156 0.6018944978713989\n",
      "0.5046149492263794 0.6036831140518188\n",
      "0.5058780312538147 0.6059584021568298\n",
      "0.5044150948524475 0.6076111793518066\n",
      "0.5055730938911438 0.6066502928733826\n",
      "0.5079281330108643 0.6074520349502563\n",
      "0.5104960203170776 0.6073696613311768\n",
      "0.504829466342926 0.6075190305709839\n",
      "0.5089029669761658 0.6072070598602295\n",
      "0.5075738430023193 0.6062242388725281\n",
      "0.5071588158607483 0.6063416600227356\n",
      "0.5080093741416931 0.6069213151931763\n",
      "0.5086512565612793 0.6071111559867859\n",
      "0.5055616497993469 0.6063003540039062\n",
      "0.5087115168571472 0.60595703125\n",
      "0.5082842111587524 0.6057326793670654\n",
      "0.5061259269714355 0.6079831123352051\n",
      "0.5100951194763184 0.6074934005737305\n",
      "0.5102589726448059 0.6096341013908386\n",
      "0.5084658861160278 0.6075915098190308\n",
      "0.5075345039367676 0.607046365737915\n",
      "0.5124449133872986 0.6075568199157715\n",
      "0.5093350410461426 0.6073556542396545\n",
      "0.5109837651252747 0.6089848279953003\n",
      "0.5099623203277588 0.6092591881752014\n",
      "0.5099912881851196 0.6087263226509094\n",
      "0.5079582333564758 0.6094204187393188\n"
     ]
    }
   ],
   "source": [
    "import cv2\n",
    "inputVideo = ''\n",
    "cap=cv2.VideoCapture(0) # 0 stands for very first webcam attach\n",
    "#filename=\"output.avi\"\n",
    "#codec=cv2.VideoWriter_fourcc('m','p','4','v')#fourcc stands for four character code\n",
    "#framerate=6\n",
    "#resolution=(640,480)\n",
    "    \n",
    "#VideoFileOutput=cv2.VideoWriter(filename,codec,framerate, resolution)\n",
    "\n",
    "with detection_graph.as_default():\n",
    "  with tf.compat.v1.Session(graph=detection_graph) as sess:\n",
    "    ret=True\n",
    "    \n",
    "    while (ret):\n",
    "        ret, image_np=cap.read() \n",
    "        # Definite input and output Tensors for detection_graph\n",
    "        image_tensor = detection_graph.get_tensor_by_name('image_tensor:0')\n",
    "        # Each box represents a part of the image where a particular object was detected.\n",
    "        detection_boxes = detection_graph.get_tensor_by_name('detection_boxes:0')\n",
    "        # Each score represent how level of confidence for each of the objects.\n",
    "        # Score is shown on the result image, together with the class label.\n",
    "        detection_scores = detection_graph.get_tensor_by_name('detection_scores:0')\n",
    "        detection_classes = detection_graph.get_tensor_by_name('detection_classes:0')\n",
    "        num_detections = detection_graph.get_tensor_by_name('num_detections:0')\n",
    "       \n",
    "          # Expand dimensions since the model expects images to have shape: [1, None, None, 3]\n",
    "        image_np_expanded = np.expand_dims(image_np, axis=0)\n",
    "          # Actual detection.\n",
    "        (boxes, scores, classes, num) = sess.run(\n",
    "              [detection_boxes, detection_scores, detection_classes, num_detections],\n",
    "              feed_dict={image_tensor: image_np_expanded})\n",
    "          # Visualization of the results of a detection.\n",
    "        vis_util.visualize_boxes_and_labels_on_image_array(\n",
    "              image_np,\n",
    "              np.squeeze(boxes),\n",
    "              np.squeeze(classes).astype(np.int32),\n",
    "              np.squeeze(scores),\n",
    "              category_index,\n",
    "              use_normalized_coordinates=True,\n",
    "              line_thickness=8)\n",
    "        \n",
    "        \n",
    "        for index, value in enumerate(classes[0]):\n",
    "            ymin = boxes[0][index][0]\n",
    "            xmin = boxes[0][index][1]\n",
    "            ymax = boxes[0][index][2]\n",
    "            xmax = boxes[0][index][3]\n",
    "            class_name = (category_index.get(value)).get('name')\n",
    "            widthvalue = int((xmax - xmin) / 2)  # width 길이\n",
    "            heightvalue = int((ymax - ymin) / 2)  # height 길이\n",
    "            if (class_name == \"person\" and scores[0, index] > 0.80) :\n",
    "                print((xmin + xmax) / 2, (ymin + ymax) / 2)\n",
    "        #VideoFileOutput.write(image_np)\n",
    "        cv2.imshow('live_detection', image_np)\n",
    "        if cv2.waitKey(25) & 0xFF==ord('q'):\n",
    "            break\n",
    "            cv2.destroyAllWindows()\n",
    "            cap.release()"
   ]
  },
  {
   "cell_type": "code",
   "execution_count": 40,
   "metadata": {},
   "outputs": [
    {
     "name": "stdout",
     "output_type": "stream",
     "text": [
      "0.13573582470417023 0.2959965169429779\n"
     ]
    },
    {
     "name": "stderr",
     "output_type": "stream",
     "text": [
      "C:\\Anaconda3\\lib\\site-packages\\ipykernel_launcher.py:58: UserWarning: Matplotlib is currently using agg, which is a non-GUI backend, so cannot show the figure.\n"
     ]
    },
    {
     "name": "stdout",
     "output_type": "stream",
     "text": [
      "0.1374882459640503 0.2923336625099182\n",
      "0.13622719049453735"
     ]
    },
    {
     "name": "stderr",
     "output_type": "stream",
     "text": [
      "C:\\Anaconda3\\lib\\site-packages\\ipykernel_launcher.py:58: UserWarning: Matplotlib is currently using agg, which is a non-GUI backend, so cannot show the figure.\n"
     ]
    },
    {
     "name": "stdout",
     "output_type": "stream",
     "text": [
      " 0.2928818166255951\n",
      "0.13639003038406372 0.29276999831199646\n"
     ]
    },
    {
     "name": "stderr",
     "output_type": "stream",
     "text": [
      "C:\\Anaconda3\\lib\\site-packages\\ipykernel_launcher.py:58: UserWarning: Matplotlib is currently using agg, which is a non-GUI backend, so cannot show the figure.\n",
      "C:\\Anaconda3\\lib\\site-packages\\ipykernel_launcher.py:58: UserWarning: Matplotlib is currently using agg, which is a non-GUI backend, so cannot show the figure.\n",
      "C:\\Anaconda3\\lib\\site-packages\\ipykernel_launcher.py:58: UserWarning: Matplotlib is currently using agg, which is a non-GUI backend, so cannot show the figure.\n"
     ]
    },
    {
     "name": "stdout",
     "output_type": "stream",
     "text": [
      "0.13988901674747467 0.2906365990638733\n",
      "0.1908886730670929 0.41469255089759827\n"
     ]
    },
    {
     "name": "stderr",
     "output_type": "stream",
     "text": [
      "C:\\Anaconda3\\lib\\site-packages\\ipykernel_launcher.py:58: UserWarning: Matplotlib is currently using agg, which is a non-GUI backend, so cannot show the figure.\n"
     ]
    },
    {
     "name": "stdout",
     "output_type": "stream",
     "text": [
      "0.22557023167610168 0.44049397110939026\n",
      "0.23846356570720673 0.4559863805770874\n"
     ]
    },
    {
     "name": "stderr",
     "output_type": "stream",
     "text": [
      "C:\\Anaconda3\\lib\\site-packages\\ipykernel_launcher.py:58: UserWarning: Matplotlib is currently using agg, which is a non-GUI backend, so cannot show the figure.\n",
      "C:\\Anaconda3\\lib\\site-packages\\ipykernel_launcher.py:58: UserWarning: Matplotlib is currently using agg, which is a non-GUI backend, so cannot show the figure.\n"
     ]
    },
    {
     "name": "stdout",
     "output_type": "stream",
     "text": [
      "0.23895855247974396 0.4530820846557617\n"
     ]
    },
    {
     "name": "stderr",
     "output_type": "stream",
     "text": [
      "C:\\Anaconda3\\lib\\site-packages\\ipykernel_launcher.py:58: UserWarning: Matplotlib is currently using agg, which is a non-GUI backend, so cannot show the figure.\n"
     ]
    },
    {
     "name": "stdout",
     "output_type": "stream",
     "text": [
      "0.24190892279148102 0.4577507972717285\n"
     ]
    },
    {
     "name": "stderr",
     "output_type": "stream",
     "text": [
      "C:\\Anaconda3\\lib\\site-packages\\ipykernel_launcher.py:58: UserWarning: Matplotlib is currently using agg, which is a non-GUI backend, so cannot show the figure.\n"
     ]
    },
    {
     "name": "stdout",
     "output_type": "stream",
     "text": [
      "0.2460864633321762 0.46408820152282715\n"
     ]
    },
    {
     "name": "stderr",
     "output_type": "stream",
     "text": [
      "C:\\Anaconda3\\lib\\site-packages\\ipykernel_launcher.py:58: UserWarning: Matplotlib is currently using agg, which is a non-GUI backend, so cannot show the figure.\n"
     ]
    },
    {
     "name": "stdout",
     "output_type": "stream",
     "text": [
      "0.2517883777618408 0.469696044921875\n",
      "0.2553354501724243 0.4737831950187683\n"
     ]
    },
    {
     "name": "stderr",
     "output_type": "stream",
     "text": [
      "C:\\Anaconda3\\lib\\site-packages\\ipykernel_launcher.py:58: UserWarning: Matplotlib is currently using agg, which is a non-GUI backend, so cannot show the figure.\n",
      "C:\\Anaconda3\\lib\\site-packages\\ipykernel_launcher.py:58: UserWarning: Matplotlib is currently using agg, which is a non-GUI backend, so cannot show the figure.\n",
      "C:\\Anaconda3\\lib\\site-packages\\ipykernel_launcher.py:58: UserWarning: Matplotlib is currently using agg, which is a non-GUI backend, so cannot show the figure.\n"
     ]
    },
    {
     "name": "stdout",
     "output_type": "stream",
     "text": [
      "0.2575463056564331 0.4764213562011719\n",
      "0.26404470205307007 0.48251521587371826\n"
     ]
    },
    {
     "name": "stderr",
     "output_type": "stream",
     "text": [
      "C:\\Anaconda3\\lib\\site-packages\\ipykernel_launcher.py:58: UserWarning: Matplotlib is currently using agg, which is a non-GUI backend, so cannot show the figure.\n"
     ]
    },
    {
     "name": "stdout",
     "output_type": "stream",
     "text": [
      "0.2775496542453766 0.49698716402053833\n",
      "0.28753867745399475 0.503318190574646\n"
     ]
    },
    {
     "name": "stderr",
     "output_type": "stream",
     "text": [
      "C:\\Anaconda3\\lib\\site-packages\\ipykernel_launcher.py:58: UserWarning: Matplotlib is currently using agg, which is a non-GUI backend, so cannot show the figure.\n",
      "C:\\Anaconda3\\lib\\site-packages\\ipykernel_launcher.py:58: UserWarning: Matplotlib is currently using agg, which is a non-GUI backend, so cannot show the figure.\n"
     ]
    },
    {
     "name": "stdout",
     "output_type": "stream",
     "text": [
      "0.294796884059906 0.5113835334777832\n"
     ]
    },
    {
     "name": "stderr",
     "output_type": "stream",
     "text": [
      "C:\\Anaconda3\\lib\\site-packages\\ipykernel_launcher.py:58: UserWarning: Matplotlib is currently using agg, which is a non-GUI backend, so cannot show the figure.\n"
     ]
    },
    {
     "name": "stdout",
     "output_type": "stream",
     "text": [
      "0.30138444900512695 0.5100024938583374\n",
      "0.30388331413269043 0.5131468772888184\n"
     ]
    },
    {
     "name": "stderr",
     "output_type": "stream",
     "text": [
      "C:\\Anaconda3\\lib\\site-packages\\ipykernel_launcher.py:58: UserWarning: Matplotlib is currently using agg, which is a non-GUI backend, so cannot show the figure.\n",
      "C:\\Anaconda3\\lib\\site-packages\\ipykernel_launcher.py:58: UserWarning: Matplotlib is currently using agg, which is a non-GUI backend, so cannot show the figure.\n"
     ]
    }
   ],
   "source": [
    "import cv2\n",
    "x_car = []\n",
    "y_car = []\n",
    "inputVideo = 'C:\\\\Users\\corallines\\\\Downloads\\\\20200401_164813.mp4'\n",
    "cap=cv2.VideoCapture(inputVideo) # 0 stands for very first webcam attach\n",
    "#filename=\"output.avi\"\n",
    "#codec=cv2.VideoWriter_fourcc('m','p','4','v')#fourcc stands for four character code\n",
    "#framerate=6\n",
    "#resolution=(640,480)\n",
    "    \n",
    "#VideoFileOutput=cv2.VideoWriter(filename,codec,framerate, resolution)\n",
    "\n",
    "with detection_graph.as_default():\n",
    "  with tf.compat.v1.Session(graph=detection_graph) as sess:\n",
    "    ret=True\n",
    "    \n",
    "    while (ret):\n",
    "        ret, image_np=cap.read() \n",
    "        # Definite input and output Tensors for detection_graph\n",
    "        image_tensor = detection_graph.get_tensor_by_name('image_tensor:0')\n",
    "        # Each box represents a part of the image where a particular object was detected.\n",
    "        detection_boxes = detection_graph.get_tensor_by_name('detection_boxes:0')\n",
    "        # Each score represent how level of confidence for each of the objects.\n",
    "        # Score is shown on the result image, together with the class label.\n",
    "        detection_scores = detection_graph.get_tensor_by_name('detection_scores:0')\n",
    "        detection_classes = detection_graph.get_tensor_by_name('detection_classes:0')\n",
    "        num_detections = detection_graph.get_tensor_by_name('num_detections:0')\n",
    "       \n",
    "          # Expand dimensions since the model expects images to have shape: [1, None, None, 3]\n",
    "        image_np_expanded = np.expand_dims(image_np, axis=0)\n",
    "          # Actual detection.\n",
    "        (boxes, scores, classes, num) = sess.run(\n",
    "              [detection_boxes, detection_scores, detection_classes, num_detections],\n",
    "              feed_dict={image_tensor: image_np_expanded})\n",
    "          # Visualization of the results of a detection.\n",
    "        vis_util.visualize_boxes_and_labels_on_image_array(\n",
    "              image_np,\n",
    "              np.squeeze(boxes),\n",
    "              np.squeeze(classes).astype(np.int32),\n",
    "              np.squeeze(scores),\n",
    "              category_index,\n",
    "              use_normalized_coordinates=True,\n",
    "              line_thickness=8)\n",
    "        \n",
    "        for index, value in enumerate(classes[0]):\n",
    "            ymin = boxes[0][index][0]\n",
    "            xmin = boxes[0][index][1]\n",
    "            ymax = boxes[0][index][2]\n",
    "            xmax = boxes[0][index][3]\n",
    "            class_name = (category_index.get(value)).get('name')\n",
    "            widthvalue = int((xmax - xmin) / 2)  # width 길이\n",
    "            heightvalue = int((ymax - ymin) / 2)  # height 길이\n",
    "            if (class_name == \"car\" and scores[0, index] > 0.80) :\n",
    "                x_center = (xmin + xmax) / 2\n",
    "                y_center = (ymin + ymax) / 2\n",
    "                x_car.append(x_center)\n",
    "                y_car.append(y_center)\n",
    "                            \n",
    "        #VideoFileOutput.write(image_np)\n",
    "        cv2.imshow('live_detection', image_np)\n",
    "        if cv2.waitKey(25) & 0xFF==ord('q'):\n",
    "            break\n",
    "            cv2.destroyAllWindows()\n",
    "            cap.release()"
   ]
  },
  {
   "cell_type": "code",
   "execution_count": 43,
   "metadata": {},
   "outputs": [
    {
     "data": {
      "text/plain": [
       "0    -0.496093\n",
       "10    0.246231\n",
       "20    1.143643\n",
       "30    2.027576\n",
       "40    1.695751\n",
       "50    3.696824\n",
       "60    1.903271\n",
       "70    1.604056\n",
       "80    2.131890\n",
       "90    1.243392\n",
       "dtype: float64"
      ]
     },
     "execution_count": 43,
     "metadata": {},
     "output_type": "execute_result"
    }
   ],
   "source": [
    "import matplotlib.pyplot as plt\n",
    "s = pd.Series(np.random.randn(10).cumsum(), index=np.arange(0, 100, 10))\n",
    "s\n"
   ]
  },
  {
   "cell_type": "code",
   "execution_count": 49,
   "metadata": {},
   "outputs": [
    {
     "data": {
      "text/plain": [
       "<matplotlib.axes._subplots.AxesSubplot at 0x20a985d5d88>"
      ]
     },
     "execution_count": 49,
     "metadata": {},
     "output_type": "execute_result"
    }
   ],
   "source": []
  }
 ],
 "metadata": {
  "kernelspec": {
   "display_name": "Python 3",
   "language": "python",
   "name": "python3"
  },
  "language_info": {
   "codemirror_mode": {
    "name": "ipython",
    "version": 3
   },
   "file_extension": ".py",
   "mimetype": "text/x-python",
   "name": "python",
   "nbconvert_exporter": "python",
   "pygments_lexer": "ipython3",
   "version": "3.7.6"
  }
 },
 "nbformat": 4,
 "nbformat_minor": 2
}
